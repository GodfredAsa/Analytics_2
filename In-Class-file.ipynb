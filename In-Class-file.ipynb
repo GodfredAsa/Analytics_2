{
 "cells": [
  {
   "cell_type": "code",
   "execution_count": 92,
   "metadata": {},
   "outputs": [],
   "source": [
    "import numpy as np\n",
    "import pandas as pd\n",
    "import json\n",
    "import ast\n",
    "import sqlite3 as sq3"
   ]
  },
  {
   "cell_type": "code",
   "execution_count": 93,
   "metadata": {},
   "outputs": [],
   "source": [
    "df = pd.read_json(\"In-Class.json\", orient='split')"
   ]
  },
  {
   "cell_type": "code",
   "execution_count": 94,
   "metadata": {},
   "outputs": [],
   "source": [
    "title = df[['id','title']]"
   ]
  },
  {
   "cell_type": "code",
   "execution_count": 95,
   "metadata": {},
   "outputs": [
    {
     "data": {
      "text/html": [
       "<div>\n",
       "<style scoped>\n",
       "    .dataframe tbody tr th:only-of-type {\n",
       "        vertical-align: middle;\n",
       "    }\n",
       "\n",
       "    .dataframe tbody tr th {\n",
       "        vertical-align: top;\n",
       "    }\n",
       "\n",
       "    .dataframe thead th {\n",
       "        text-align: right;\n",
       "    }\n",
       "</style>\n",
       "<table border=\"1\" class=\"dataframe\">\n",
       "  <thead>\n",
       "    <tr style=\"text-align: right;\">\n",
       "      <th></th>\n",
       "      <th>id</th>\n",
       "      <th>title</th>\n",
       "    </tr>\n",
       "  </thead>\n",
       "  <tbody>\n",
       "    <tr>\n",
       "      <th>0</th>\n",
       "      <td>299534</td>\n",
       "      <td>Avengers: Endgame</td>\n",
       "    </tr>\n",
       "    <tr>\n",
       "      <th>1</th>\n",
       "      <td>19995</td>\n",
       "      <td>Avatar</td>\n",
       "    </tr>\n",
       "  </tbody>\n",
       "</table>\n",
       "</div>"
      ],
      "text/plain": [
       "       id              title\n",
       "0  299534  Avengers: Endgame\n",
       "1   19995             Avatar"
      ]
     },
     "execution_count": 95,
     "metadata": {},
     "output_type": "execute_result"
    }
   ],
   "source": [
    "title.head(2)"
   ]
  },
  {
   "cell_type": "code",
   "execution_count": 96,
   "metadata": {},
   "outputs": [],
   "source": [
    "Revenue = df[['id','revenue']]"
   ]
  },
  {
   "cell_type": "code",
   "execution_count": 97,
   "metadata": {},
   "outputs": [
    {
     "data": {
      "text/html": [
       "<div>\n",
       "<style scoped>\n",
       "    .dataframe tbody tr th:only-of-type {\n",
       "        vertical-align: middle;\n",
       "    }\n",
       "\n",
       "    .dataframe tbody tr th {\n",
       "        vertical-align: top;\n",
       "    }\n",
       "\n",
       "    .dataframe thead th {\n",
       "        text-align: right;\n",
       "    }\n",
       "</style>\n",
       "<table border=\"1\" class=\"dataframe\">\n",
       "  <thead>\n",
       "    <tr style=\"text-align: right;\">\n",
       "      <th></th>\n",
       "      <th>id</th>\n",
       "      <th>revenue</th>\n",
       "    </tr>\n",
       "  </thead>\n",
       "  <tbody>\n",
       "    <tr>\n",
       "      <th>0</th>\n",
       "      <td>299534</td>\n",
       "      <td>2797800564</td>\n",
       "    </tr>\n",
       "    <tr>\n",
       "      <th>1</th>\n",
       "      <td>19995</td>\n",
       "      <td>2787965087</td>\n",
       "    </tr>\n",
       "  </tbody>\n",
       "</table>\n",
       "</div>"
      ],
      "text/plain": [
       "       id     revenue\n",
       "0  299534  2797800564\n",
       "1   19995  2787965087"
      ]
     },
     "execution_count": 97,
     "metadata": {},
     "output_type": "execute_result"
    }
   ],
   "source": [
    "Revenue.head(2)"
   ]
  },
  {
   "cell_type": "code",
   "execution_count": 98,
   "metadata": {},
   "outputs": [],
   "source": [
    "Genre = df[['id','genres']]"
   ]
  },
  {
   "cell_type": "code",
   "execution_count": 99,
   "metadata": {},
   "outputs": [
    {
     "data": {
      "text/html": [
       "<div>\n",
       "<style scoped>\n",
       "    .dataframe tbody tr th:only-of-type {\n",
       "        vertical-align: middle;\n",
       "    }\n",
       "\n",
       "    .dataframe tbody tr th {\n",
       "        vertical-align: top;\n",
       "    }\n",
       "\n",
       "    .dataframe thead th {\n",
       "        text-align: right;\n",
       "    }\n",
       "</style>\n",
       "<table border=\"1\" class=\"dataframe\">\n",
       "  <thead>\n",
       "    <tr style=\"text-align: right;\">\n",
       "      <th></th>\n",
       "      <th>id</th>\n",
       "      <th>genres</th>\n",
       "    </tr>\n",
       "  </thead>\n",
       "  <tbody>\n",
       "    <tr>\n",
       "      <th>0</th>\n",
       "      <td>299534</td>\n",
       "      <td>[{'id': 12, 'name': 'Adventure'}, {'id': 878, ...</td>\n",
       "    </tr>\n",
       "    <tr>\n",
       "      <th>1</th>\n",
       "      <td>19995</td>\n",
       "      <td>[{'id': 28, 'name': 'Action'}, {'id': 12, 'nam...</td>\n",
       "    </tr>\n",
       "    <tr>\n",
       "      <th>2</th>\n",
       "      <td>140607</td>\n",
       "      <td>[{'id': 28, 'name': 'Action'}, {'id': 12, 'nam...</td>\n",
       "    </tr>\n",
       "    <tr>\n",
       "      <th>3</th>\n",
       "      <td>299536</td>\n",
       "      <td>[{'id': 12, 'name': 'Adventure'}, {'id': 28, '...</td>\n",
       "    </tr>\n",
       "    <tr>\n",
       "      <th>4</th>\n",
       "      <td>597</td>\n",
       "      <td>[{'id': 18, 'name': 'Drama'}, {'id': 10749, 'n...</td>\n",
       "    </tr>\n",
       "  </tbody>\n",
       "</table>\n",
       "</div>"
      ],
      "text/plain": [
       "       id                                             genres\n",
       "0  299534  [{'id': 12, 'name': 'Adventure'}, {'id': 878, ...\n",
       "1   19995  [{'id': 28, 'name': 'Action'}, {'id': 12, 'nam...\n",
       "2  140607  [{'id': 28, 'name': 'Action'}, {'id': 12, 'nam...\n",
       "3  299536  [{'id': 12, 'name': 'Adventure'}, {'id': 28, '...\n",
       "4     597  [{'id': 18, 'name': 'Drama'}, {'id': 10749, 'n..."
      ]
     },
     "execution_count": 99,
     "metadata": {},
     "output_type": "execute_result"
    }
   ],
   "source": [
    "Genre.head()"
   ]
  },
  {
   "cell_type": "code",
   "execution_count": 100,
   "metadata": {},
   "outputs": [
    {
     "data": {
      "text/plain": [
       "[{'id': 12, 'name': 'Adventure'},\n",
       " {'id': 878, 'name': 'Science Fiction'},\n",
       " {'id': 28, 'name': 'Action'}]"
      ]
     },
     "execution_count": 100,
     "metadata": {},
     "output_type": "execute_result"
    }
   ],
   "source": [
    "Genre.genres[0]"
   ]
  },
  {
   "cell_type": "code",
   "execution_count": 101,
   "metadata": {},
   "outputs": [
    {
     "data": {
      "text/html": [
       "<div>\n",
       "<style scoped>\n",
       "    .dataframe tbody tr th:only-of-type {\n",
       "        vertical-align: middle;\n",
       "    }\n",
       "\n",
       "    .dataframe tbody tr th {\n",
       "        vertical-align: top;\n",
       "    }\n",
       "\n",
       "    .dataframe thead th {\n",
       "        text-align: right;\n",
       "    }\n",
       "</style>\n",
       "<table border=\"1\" class=\"dataframe\">\n",
       "  <thead>\n",
       "    <tr style=\"text-align: right;\">\n",
       "      <th></th>\n",
       "      <th>title</th>\n",
       "      <th>id</th>\n",
       "      <th>revenue</th>\n",
       "      <th>genres</th>\n",
       "      <th>belongs_to_collection</th>\n",
       "      <th>runtime</th>\n",
       "    </tr>\n",
       "  </thead>\n",
       "  <tbody>\n",
       "    <tr>\n",
       "      <th>0</th>\n",
       "      <td>Avengers: Endgame</td>\n",
       "      <td>299534</td>\n",
       "      <td>2797800564</td>\n",
       "      <td>[{'id': 12, 'name': 'Adventure'}, {'id': 878, ...</td>\n",
       "      <td>{'id': 86311, 'name': 'The Avengers Collection...</td>\n",
       "      <td>181</td>\n",
       "    </tr>\n",
       "    <tr>\n",
       "      <th>1</th>\n",
       "      <td>Avatar</td>\n",
       "      <td>19995</td>\n",
       "      <td>2787965087</td>\n",
       "      <td>[{'id': 28, 'name': 'Action'}, {'id': 12, 'nam...</td>\n",
       "      <td>{'id': 87096, 'name': 'Avatar Collection', 'po...</td>\n",
       "      <td>162</td>\n",
       "    </tr>\n",
       "    <tr>\n",
       "      <th>2</th>\n",
       "      <td>Star Wars: The Force Awakens</td>\n",
       "      <td>140607</td>\n",
       "      <td>2068223624</td>\n",
       "      <td>[{'id': 28, 'name': 'Action'}, {'id': 12, 'nam...</td>\n",
       "      <td>{'id': 10, 'name': 'Star Wars Collection', 'po...</td>\n",
       "      <td>136</td>\n",
       "    </tr>\n",
       "    <tr>\n",
       "      <th>3</th>\n",
       "      <td>Avengers: Infinity War</td>\n",
       "      <td>299536</td>\n",
       "      <td>2046239637</td>\n",
       "      <td>[{'id': 12, 'name': 'Adventure'}, {'id': 28, '...</td>\n",
       "      <td>{'id': 86311, 'name': 'The Avengers Collection...</td>\n",
       "      <td>149</td>\n",
       "    </tr>\n",
       "    <tr>\n",
       "      <th>4</th>\n",
       "      <td>Titanic</td>\n",
       "      <td>597</td>\n",
       "      <td>1845034188</td>\n",
       "      <td>[{'id': 18, 'name': 'Drama'}, {'id': 10749, 'n...</td>\n",
       "      <td>None</td>\n",
       "      <td>194</td>\n",
       "    </tr>\n",
       "  </tbody>\n",
       "</table>\n",
       "</div>"
      ],
      "text/plain": [
       "                          title      id     revenue  \\\n",
       "0             Avengers: Endgame  299534  2797800564   \n",
       "1                        Avatar   19995  2787965087   \n",
       "2  Star Wars: The Force Awakens  140607  2068223624   \n",
       "3        Avengers: Infinity War  299536  2046239637   \n",
       "4                       Titanic     597  1845034188   \n",
       "\n",
       "                                              genres  \\\n",
       "0  [{'id': 12, 'name': 'Adventure'}, {'id': 878, ...   \n",
       "1  [{'id': 28, 'name': 'Action'}, {'id': 12, 'nam...   \n",
       "2  [{'id': 28, 'name': 'Action'}, {'id': 12, 'nam...   \n",
       "3  [{'id': 12, 'name': 'Adventure'}, {'id': 28, '...   \n",
       "4  [{'id': 18, 'name': 'Drama'}, {'id': 10749, 'n...   \n",
       "\n",
       "                               belongs_to_collection  runtime  \n",
       "0  {'id': 86311, 'name': 'The Avengers Collection...      181  \n",
       "1  {'id': 87096, 'name': 'Avatar Collection', 'po...      162  \n",
       "2  {'id': 10, 'name': 'Star Wars Collection', 'po...      136  \n",
       "3  {'id': 86311, 'name': 'The Avengers Collection...      149  \n",
       "4                                               None      194  "
      ]
     },
     "execution_count": 101,
     "metadata": {},
     "output_type": "execute_result"
    }
   ],
   "source": [
    "df.head()"
   ]
  },
  {
   "cell_type": "code",
   "execution_count": 102,
   "metadata": {},
   "outputs": [],
   "source": [
    "df.genres = df.genres.apply(lambda x: '&'.join(i['name'] for i in x) if isinstance(x,list)  else np.nan)"
   ]
  },
  {
   "cell_type": "code",
   "execution_count": 103,
   "metadata": {},
   "outputs": [
    {
     "data": {
      "text/html": [
       "<div>\n",
       "<style scoped>\n",
       "    .dataframe tbody tr th:only-of-type {\n",
       "        vertical-align: middle;\n",
       "    }\n",
       "\n",
       "    .dataframe tbody tr th {\n",
       "        vertical-align: top;\n",
       "    }\n",
       "\n",
       "    .dataframe thead th {\n",
       "        text-align: right;\n",
       "    }\n",
       "</style>\n",
       "<table border=\"1\" class=\"dataframe\">\n",
       "  <thead>\n",
       "    <tr style=\"text-align: right;\">\n",
       "      <th></th>\n",
       "      <th>title</th>\n",
       "      <th>id</th>\n",
       "      <th>revenue</th>\n",
       "      <th>genres</th>\n",
       "      <th>belongs_to_collection</th>\n",
       "      <th>runtime</th>\n",
       "    </tr>\n",
       "  </thead>\n",
       "  <tbody>\n",
       "    <tr>\n",
       "      <th>0</th>\n",
       "      <td>Avengers: Endgame</td>\n",
       "      <td>299534</td>\n",
       "      <td>2797800564</td>\n",
       "      <td>Adventure&amp;Science Fiction&amp;Action</td>\n",
       "      <td>{'id': 86311, 'name': 'The Avengers Collection...</td>\n",
       "      <td>181</td>\n",
       "    </tr>\n",
       "    <tr>\n",
       "      <th>1</th>\n",
       "      <td>Avatar</td>\n",
       "      <td>19995</td>\n",
       "      <td>2787965087</td>\n",
       "      <td>Action&amp;Adventure&amp;Fantasy&amp;Science Fiction</td>\n",
       "      <td>{'id': 87096, 'name': 'Avatar Collection', 'po...</td>\n",
       "      <td>162</td>\n",
       "    </tr>\n",
       "    <tr>\n",
       "      <th>2</th>\n",
       "      <td>Star Wars: The Force Awakens</td>\n",
       "      <td>140607</td>\n",
       "      <td>2068223624</td>\n",
       "      <td>Action&amp;Adventure&amp;Science Fiction&amp;Fantasy</td>\n",
       "      <td>{'id': 10, 'name': 'Star Wars Collection', 'po...</td>\n",
       "      <td>136</td>\n",
       "    </tr>\n",
       "    <tr>\n",
       "      <th>3</th>\n",
       "      <td>Avengers: Infinity War</td>\n",
       "      <td>299536</td>\n",
       "      <td>2046239637</td>\n",
       "      <td>Adventure&amp;Action&amp;Science Fiction</td>\n",
       "      <td>{'id': 86311, 'name': 'The Avengers Collection...</td>\n",
       "      <td>149</td>\n",
       "    </tr>\n",
       "    <tr>\n",
       "      <th>4</th>\n",
       "      <td>Titanic</td>\n",
       "      <td>597</td>\n",
       "      <td>1845034188</td>\n",
       "      <td>Drama&amp;Romance&amp;Thriller</td>\n",
       "      <td>None</td>\n",
       "      <td>194</td>\n",
       "    </tr>\n",
       "  </tbody>\n",
       "</table>\n",
       "</div>"
      ],
      "text/plain": [
       "                          title      id     revenue  \\\n",
       "0             Avengers: Endgame  299534  2797800564   \n",
       "1                        Avatar   19995  2787965087   \n",
       "2  Star Wars: The Force Awakens  140607  2068223624   \n",
       "3        Avengers: Infinity War  299536  2046239637   \n",
       "4                       Titanic     597  1845034188   \n",
       "\n",
       "                                     genres  \\\n",
       "0          Adventure&Science Fiction&Action   \n",
       "1  Action&Adventure&Fantasy&Science Fiction   \n",
       "2  Action&Adventure&Science Fiction&Fantasy   \n",
       "3          Adventure&Action&Science Fiction   \n",
       "4                    Drama&Romance&Thriller   \n",
       "\n",
       "                               belongs_to_collection  runtime  \n",
       "0  {'id': 86311, 'name': 'The Avengers Collection...      181  \n",
       "1  {'id': 87096, 'name': 'Avatar Collection', 'po...      162  \n",
       "2  {'id': 10, 'name': 'Star Wars Collection', 'po...      136  \n",
       "3  {'id': 86311, 'name': 'The Avengers Collection...      149  \n",
       "4                                               None      194  "
      ]
     },
     "execution_count": 103,
     "metadata": {},
     "output_type": "execute_result"
    }
   ],
   "source": [
    "df.head()"
   ]
  },
  {
   "cell_type": "code",
   "execution_count": 104,
   "metadata": {},
   "outputs": [
    {
     "data": {
      "text/plain": [
       "pandas.core.series.Series"
      ]
     },
     "execution_count": 104,
     "metadata": {},
     "output_type": "execute_result"
    }
   ],
   "source": [
    "type(df.belongs_to_collection)"
   ]
  },
  {
   "cell_type": "code",
   "execution_count": 105,
   "metadata": {},
   "outputs": [
    {
     "data": {
      "text/plain": [
       "{'id': 86311,\n",
       " 'name': 'The Avengers Collection',\n",
       " 'poster_path': '/yFSIUVTCvgYrpalUktulvk3Gi5Y.jpg',\n",
       " 'backdrop_path': '/zuW6fOiusv4X9nnW3paHGfXcSll.jpg'}"
      ]
     },
     "execution_count": 105,
     "metadata": {},
     "output_type": "execute_result"
    }
   ],
   "source": [
    "df.belongs_to_collection[0]"
   ]
  },
  {
   "cell_type": "code",
   "execution_count": null,
   "metadata": {},
   "outputs": [],
   "source": []
  },
  {
   "cell_type": "code",
   "execution_count": null,
   "metadata": {},
   "outputs": [],
   "source": []
  },
  {
   "cell_type": "code",
   "execution_count": 106,
   "metadata": {},
   "outputs": [],
   "source": [
    "data = df.belongs_to_collection"
   ]
  },
  {
   "cell_type": "markdown",
   "metadata": {},
   "source": [
    "### Converts to dictionary "
   ]
  },
  {
   "cell_type": "code",
   "execution_count": 107,
   "metadata": {},
   "outputs": [],
   "source": [
    "data = data.to_dict()"
   ]
  },
  {
   "cell_type": "code",
   "execution_count": 108,
   "metadata": {},
   "outputs": [
    {
     "data": {
      "text/plain": [
       "dict"
      ]
     },
     "execution_count": 108,
     "metadata": {},
     "output_type": "execute_result"
    }
   ],
   "source": [
    "type(data)"
   ]
  },
  {
   "cell_type": "markdown",
   "metadata": {},
   "source": [
    "### Converts from dictionary to a DataFrame "
   ]
  },
  {
   "cell_type": "code",
   "execution_count": 109,
   "metadata": {},
   "outputs": [
    {
     "data": {
      "text/html": [
       "<div>\n",
       "<style scoped>\n",
       "    .dataframe tbody tr th:only-of-type {\n",
       "        vertical-align: middle;\n",
       "    }\n",
       "\n",
       "    .dataframe tbody tr th {\n",
       "        vertical-align: top;\n",
       "    }\n",
       "\n",
       "    .dataframe thead th {\n",
       "        text-align: right;\n",
       "    }\n",
       "</style>\n",
       "<table border=\"1\" class=\"dataframe\">\n",
       "  <thead>\n",
       "    <tr style=\"text-align: right;\">\n",
       "      <th></th>\n",
       "      <th>backdrop_path</th>\n",
       "      <th>id</th>\n",
       "      <th>name</th>\n",
       "      <th>poster_path</th>\n",
       "    </tr>\n",
       "  </thead>\n",
       "  <tbody>\n",
       "    <tr>\n",
       "      <th>0</th>\n",
       "      <td>/zuW6fOiusv4X9nnW3paHGfXcSll.jpg</td>\n",
       "      <td>86311</td>\n",
       "      <td>The Avengers Collection</td>\n",
       "      <td>/yFSIUVTCvgYrpalUktulvk3Gi5Y.jpg</td>\n",
       "    </tr>\n",
       "    <tr>\n",
       "      <th>1</th>\n",
       "      <td>/8nCr9W7sKus2q9PLbYsnT7iCkuT.jpg</td>\n",
       "      <td>87096</td>\n",
       "      <td>Avatar Collection</td>\n",
       "      <td>/nslJVsO58Etqkk17oXMuVK4gNOF.jpg</td>\n",
       "    </tr>\n",
       "    <tr>\n",
       "      <th>2</th>\n",
       "      <td>/d8duYyyC9J5T825Hg7grmaabfxQ.jpg</td>\n",
       "      <td>10</td>\n",
       "      <td>Star Wars Collection</td>\n",
       "      <td>/iTQHKziZy9pAAY4hHEDCGPaOvFC.jpg</td>\n",
       "    </tr>\n",
       "    <tr>\n",
       "      <th>3</th>\n",
       "      <td>/zuW6fOiusv4X9nnW3paHGfXcSll.jpg</td>\n",
       "      <td>86311</td>\n",
       "      <td>The Avengers Collection</td>\n",
       "      <td>/yFSIUVTCvgYrpalUktulvk3Gi5Y.jpg</td>\n",
       "    </tr>\n",
       "    <tr>\n",
       "      <th>4</th>\n",
       "      <td>None</td>\n",
       "      <td>None</td>\n",
       "      <td>None</td>\n",
       "      <td>None</td>\n",
       "    </tr>\n",
       "    <tr>\n",
       "      <th>5</th>\n",
       "      <td>/pJjIH9QN0OkHFV9eue6XfRVnPkr.jpg</td>\n",
       "      <td>328</td>\n",
       "      <td>Jurassic Park Collection</td>\n",
       "      <td>/qIm2nHXLpBBdMxi8dvfrnDkBUDh.jpg</td>\n",
       "    </tr>\n",
       "    <tr>\n",
       "      <th>6</th>\n",
       "      <td>None</td>\n",
       "      <td>None</td>\n",
       "      <td>None</td>\n",
       "      <td>None</td>\n",
       "    </tr>\n",
       "    <tr>\n",
       "      <th>7</th>\n",
       "      <td>/zuW6fOiusv4X9nnW3paHGfXcSll.jpg</td>\n",
       "      <td>86311</td>\n",
       "      <td>The Avengers Collection</td>\n",
       "      <td>/yFSIUVTCvgYrpalUktulvk3Gi5Y.jpg</td>\n",
       "    </tr>\n",
       "    <tr>\n",
       "      <th>8</th>\n",
       "      <td>/z5A5W3WYJc3UVEWljSGwdjDgQ0j.jpg</td>\n",
       "      <td>9485</td>\n",
       "      <td>The Fast and the Furious Collection</td>\n",
       "      <td>/uv63yAGg1zETAs1XQsOQpava87l.jpg</td>\n",
       "    </tr>\n",
       "    <tr>\n",
       "      <th>9</th>\n",
       "      <td>/zuW6fOiusv4X9nnW3paHGfXcSll.jpg</td>\n",
       "      <td>86311</td>\n",
       "      <td>The Avengers Collection</td>\n",
       "      <td>/yFSIUVTCvgYrpalUktulvk3Gi5Y.jpg</td>\n",
       "    </tr>\n",
       "    <tr>\n",
       "      <th>10</th>\n",
       "      <td>/1Jj7Frjjbewb6Q6dl6YXhL3kuvL.jpg</td>\n",
       "      <td>529892</td>\n",
       "      <td>Black Panther Collection</td>\n",
       "      <td>/9ZSPIsxI3TZDgfg0Jzk0RZl4INg.jpg</td>\n",
       "    </tr>\n",
       "    <tr>\n",
       "      <th>11</th>\n",
       "      <td>/wfnMt6LGqYHcNyOfsuusw5lX3bL.jpg</td>\n",
       "      <td>1241</td>\n",
       "      <td>Harry Potter Collection</td>\n",
       "      <td>/eVPs2Y0LyvTLZn6AP5Z6O2rtiGB.jpg</td>\n",
       "    </tr>\n",
       "    <tr>\n",
       "      <th>12</th>\n",
       "      <td>/d8duYyyC9J5T825Hg7grmaabfxQ.jpg</td>\n",
       "      <td>10</td>\n",
       "      <td>Star Wars Collection</td>\n",
       "      <td>/iTQHKziZy9pAAY4hHEDCGPaOvFC.jpg</td>\n",
       "    </tr>\n",
       "    <tr>\n",
       "      <th>13</th>\n",
       "      <td>/vZiqhw6oFoMlHSneIdVip9rRou2.jpg</td>\n",
       "      <td>386382</td>\n",
       "      <td>Frozen Collection</td>\n",
       "      <td>/rpoXnE9UzCbjmINhxIi8bZF557B.jpg</td>\n",
       "    </tr>\n",
       "    <tr>\n",
       "      <th>14</th>\n",
       "      <td>/pJjIH9QN0OkHFV9eue6XfRVnPkr.jpg</td>\n",
       "      <td>328</td>\n",
       "      <td>Jurassic Park Collection</td>\n",
       "      <td>/qIm2nHXLpBBdMxi8dvfrnDkBUDh.jpg</td>\n",
       "    </tr>\n",
       "    <tr>\n",
       "      <th>15</th>\n",
       "      <td>/vZiqhw6oFoMlHSneIdVip9rRou2.jpg</td>\n",
       "      <td>386382</td>\n",
       "      <td>Frozen Collection</td>\n",
       "      <td>/rpoXnE9UzCbjmINhxIi8bZF557B.jpg</td>\n",
       "    </tr>\n",
       "    <tr>\n",
       "      <th>16</th>\n",
       "      <td>None</td>\n",
       "      <td>None</td>\n",
       "      <td>None</td>\n",
       "      <td>None</td>\n",
       "    </tr>\n",
       "    <tr>\n",
       "      <th>17</th>\n",
       "      <td>/9eDW2dVhnzPS2HvaRdK2OlAGaLq.jpg</td>\n",
       "      <td>468222</td>\n",
       "      <td>The Incredibles Collection</td>\n",
       "      <td>/l7GqbzkJwowYRIXAtUz2iCPi64a.jpg</td>\n",
       "    </tr>\n",
       "  </tbody>\n",
       "</table>\n",
       "</div>"
      ],
      "text/plain": [
       "                       backdrop_path      id  \\\n",
       "0   /zuW6fOiusv4X9nnW3paHGfXcSll.jpg   86311   \n",
       "1   /8nCr9W7sKus2q9PLbYsnT7iCkuT.jpg   87096   \n",
       "2   /d8duYyyC9J5T825Hg7grmaabfxQ.jpg      10   \n",
       "3   /zuW6fOiusv4X9nnW3paHGfXcSll.jpg   86311   \n",
       "4                               None    None   \n",
       "5   /pJjIH9QN0OkHFV9eue6XfRVnPkr.jpg     328   \n",
       "6                               None    None   \n",
       "7   /zuW6fOiusv4X9nnW3paHGfXcSll.jpg   86311   \n",
       "8   /z5A5W3WYJc3UVEWljSGwdjDgQ0j.jpg    9485   \n",
       "9   /zuW6fOiusv4X9nnW3paHGfXcSll.jpg   86311   \n",
       "10  /1Jj7Frjjbewb6Q6dl6YXhL3kuvL.jpg  529892   \n",
       "11  /wfnMt6LGqYHcNyOfsuusw5lX3bL.jpg    1241   \n",
       "12  /d8duYyyC9J5T825Hg7grmaabfxQ.jpg      10   \n",
       "13  /vZiqhw6oFoMlHSneIdVip9rRou2.jpg  386382   \n",
       "14  /pJjIH9QN0OkHFV9eue6XfRVnPkr.jpg     328   \n",
       "15  /vZiqhw6oFoMlHSneIdVip9rRou2.jpg  386382   \n",
       "16                              None    None   \n",
       "17  /9eDW2dVhnzPS2HvaRdK2OlAGaLq.jpg  468222   \n",
       "\n",
       "                                   name                       poster_path  \n",
       "0               The Avengers Collection  /yFSIUVTCvgYrpalUktulvk3Gi5Y.jpg  \n",
       "1                     Avatar Collection  /nslJVsO58Etqkk17oXMuVK4gNOF.jpg  \n",
       "2                  Star Wars Collection  /iTQHKziZy9pAAY4hHEDCGPaOvFC.jpg  \n",
       "3               The Avengers Collection  /yFSIUVTCvgYrpalUktulvk3Gi5Y.jpg  \n",
       "4                                  None                              None  \n",
       "5              Jurassic Park Collection  /qIm2nHXLpBBdMxi8dvfrnDkBUDh.jpg  \n",
       "6                                  None                              None  \n",
       "7               The Avengers Collection  /yFSIUVTCvgYrpalUktulvk3Gi5Y.jpg  \n",
       "8   The Fast and the Furious Collection  /uv63yAGg1zETAs1XQsOQpava87l.jpg  \n",
       "9               The Avengers Collection  /yFSIUVTCvgYrpalUktulvk3Gi5Y.jpg  \n",
       "10             Black Panther Collection  /9ZSPIsxI3TZDgfg0Jzk0RZl4INg.jpg  \n",
       "11              Harry Potter Collection  /eVPs2Y0LyvTLZn6AP5Z6O2rtiGB.jpg  \n",
       "12                 Star Wars Collection  /iTQHKziZy9pAAY4hHEDCGPaOvFC.jpg  \n",
       "13                    Frozen Collection  /rpoXnE9UzCbjmINhxIi8bZF557B.jpg  \n",
       "14             Jurassic Park Collection  /qIm2nHXLpBBdMxi8dvfrnDkBUDh.jpg  \n",
       "15                    Frozen Collection  /rpoXnE9UzCbjmINhxIi8bZF557B.jpg  \n",
       "16                                 None                              None  \n",
       "17           The Incredibles Collection  /l7GqbzkJwowYRIXAtUz2iCPi64a.jpg  "
      ]
     },
     "execution_count": 109,
     "metadata": {},
     "output_type": "execute_result"
    }
   ],
   "source": [
    "data = pd.DataFrame.from_dict(data).T\n",
    "data"
   ]
  },
  {
   "cell_type": "code",
   "execution_count": null,
   "metadata": {},
   "outputs": [],
   "source": []
  },
  {
   "cell_type": "code",
   "execution_count": null,
   "metadata": {},
   "outputs": [],
   "source": []
  },
  {
   "cell_type": "code",
   "execution_count": null,
   "metadata": {},
   "outputs": [],
   "source": []
  },
  {
   "cell_type": "code",
   "execution_count": 118,
   "metadata": {},
   "outputs": [],
   "source": [
    "data['id'] = df.id"
   ]
  },
  {
   "cell_type": "code",
   "execution_count": 119,
   "metadata": {},
   "outputs": [],
   "source": [
    "B_2_C= data"
   ]
  },
  {
   "cell_type": "code",
   "execution_count": 3,
   "metadata": {},
   "outputs": [],
   "source": [
    "#B_2_C.code.value_counts(dropna=False) #not working "
   ]
  },
  {
   "cell_type": "code",
   "execution_count": 5,
   "metadata": {},
   "outputs": [],
   "source": [
    "#B_2_C = B_2_C.code.apply(lambda x: pd.drop for i in x if i=='None')"
   ]
  },
  {
   "cell_type": "code",
   "execution_count": null,
   "metadata": {},
   "outputs": [],
   "source": [
    "B_2_C"
   ]
  },
  {
   "cell_type": "code",
   "execution_count": 121,
   "metadata": {
    "scrolled": false
   },
   "outputs": [],
   "source": [
    "for value in B_2_C.index:\n",
    "    if str(B_2_C.name)=='None':\n",
    "        B_2_C.drop(value, axis=0, inplace=True)"
   ]
  },
  {
   "cell_type": "code",
   "execution_count": 122,
   "metadata": {},
   "outputs": [
    {
     "data": {
      "text/plain": [
       "backdrop_path    object\n",
       "id                int64\n",
       "name             object\n",
       "poster_path      object\n",
       "dtype: object"
      ]
     },
     "execution_count": 122,
     "metadata": {},
     "output_type": "execute_result"
    }
   ],
   "source": [
    "B_2_C.dtypes"
   ]
  },
  {
   "cell_type": "code",
   "execution_count": null,
   "metadata": {},
   "outputs": [],
   "source": [
    "for value in B_2_C.index:\n",
    "    if str(B_2_C.name[value]) == 'None':\n",
    "        B_2_C.drop(value, inplace=True)"
   ]
  },
  {
   "cell_type": "code",
   "execution_count": null,
   "metadata": {},
   "outputs": [],
   "source": [
    "B_2_C.name[1]"
   ]
  },
  {
   "cell_type": "code",
   "execution_count": null,
   "metadata": {},
   "outputs": [],
   "source": [
    "B_2_C.dtypes"
   ]
  },
  {
   "cell_type": "code",
   "execution_count": null,
   "metadata": {},
   "outputs": [],
   "source": [
    "B_2_C"
   ]
  },
  {
   "cell_type": "code",
   "execution_count": null,
   "metadata": {},
   "outputs": [],
   "source": []
  },
  {
   "cell_type": "code",
   "execution_count": null,
   "metadata": {},
   "outputs": [],
   "source": []
  },
  {
   "cell_type": "code",
   "execution_count": null,
   "metadata": {},
   "outputs": [],
   "source": []
  },
  {
   "cell_type": "code",
   "execution_count": 123,
   "metadata": {},
   "outputs": [],
   "source": [
    "data = data.rename(columns={'id':'code'})"
   ]
  },
  {
   "cell_type": "code",
   "execution_count": 124,
   "metadata": {},
   "outputs": [],
   "source": [
    "con = sq3.connect('Try.db')"
   ]
  },
  {
   "cell_type": "code",
   "execution_count": 6,
   "metadata": {},
   "outputs": [],
   "source": [
    "#title.to_sql('Title', con, index=False)"
   ]
  },
  {
   "cell_type": "code",
   "execution_count": null,
   "metadata": {},
   "outputs": [],
   "source": []
  },
  {
   "cell_type": "code",
   "execution_count": null,
   "metadata": {},
   "outputs": [],
   "source": [
    "con.execute('sel')"
   ]
  },
  {
   "cell_type": "code",
   "execution_count": null,
   "metadata": {},
   "outputs": [],
   "source": [
    "Revenue.to_sql('Revenue', con, index=False)"
   ]
  },
  {
   "cell_type": "code",
   "execution_count": null,
   "metadata": {},
   "outputs": [],
   "source": []
  },
  {
   "cell_type": "code",
   "execution_count": null,
   "metadata": {},
   "outputs": [],
   "source": [
    "con.close()"
   ]
  },
  {
   "cell_type": "markdown",
   "metadata": {},
   "source": [
    "# Merging data"
   ]
  },
  {
   "cell_type": "code",
   "execution_count": null,
   "metadata": {},
   "outputs": [],
   "source": [
    "data1 = df.merge(data, how='left', left_on='id', right_on='code')"
   ]
  },
  {
   "cell_type": "code",
   "execution_count": null,
   "metadata": {},
   "outputs": [],
   "source": [
    "data1"
   ]
  },
  {
   "cell_type": "code",
   "execution_count": null,
   "metadata": {},
   "outputs": [],
   "source": []
  },
  {
   "cell_type": "code",
   "execution_count": null,
   "metadata": {},
   "outputs": [],
   "source": [
    "df.belongs_to_collection[0]"
   ]
  },
  {
   "cell_type": "code",
   "execution_count": null,
   "metadata": {},
   "outputs": [],
   "source": [
    "type(df.belongs_to_collection[0])"
   ]
  },
  {
   "cell_type": "code",
   "execution_count": null,
   "metadata": {},
   "outputs": [],
   "source": [
    "pd.DataFrame.from_dict(df.belongs_to_collection, orient='index').T"
   ]
  },
  {
   "cell_type": "code",
   "execution_count": null,
   "metadata": {},
   "outputs": [],
   "source": []
  },
  {
   "cell_type": "code",
   "execution_count": null,
   "metadata": {},
   "outputs": [],
   "source": []
  }
 ],
 "metadata": {
  "kernelspec": {
   "display_name": "Python 3",
   "language": "python",
   "name": "python3"
  },
  "language_info": {
   "codemirror_mode": {
    "name": "ipython",
    "version": 3
   },
   "file_extension": ".py",
   "mimetype": "text/x-python",
   "name": "python",
   "nbconvert_exporter": "python",
   "pygments_lexer": "ipython3",
   "version": "3.7.3"
  }
 },
 "nbformat": 4,
 "nbformat_minor": 4
}
